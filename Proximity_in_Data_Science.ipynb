{
  "nbformat": 4,
  "nbformat_minor": 0,
  "metadata": {
    "colab": {
      "provenance": []
    },
    "kernelspec": {
      "name": "python3",
      "display_name": "Python 3"
    },
    "language_info": {
      "name": "python"
    }
  },
  "cells": [
    {
      "cell_type": "markdown",
      "source": [
        "Class: Data mining\n",
        "\n",
        "Student: Salvador Robles Herrera\n",
        "\n",
        "Professor: Dr. Shahriar Hossain"
      ],
      "metadata": {
        "id": "a6BA3rwHvcPB"
      }
    },
    {
      "cell_type": "markdown",
      "source": [
        "# Proximity in Data Science context\n",
        "\n",
        "In Data Science, it is very interesting to see when two data points are close to each other. This would mean that this two data points are very correlated, there is similarity between them.\n",
        "\n",
        "\n",
        "In data science, we are used to work in high dimensional spaces (greater than 3D) where often it is impossible to graphically plot this like in a 1D, 2D, or 3D space. But this does not matter when we apply the following distance measures. Distance, or in other words proximity, can follow the same rules as a Eclidean space, and thus we can find the distance from any two vectors (data points) with any number of features.\n",
        "\n",
        "The following code represents different distance measures like: Manhattan distance, Euvlid distance, Jaccard distance, Tanimoto distance, and Cosine distance."
      ],
      "metadata": {
        "id": "PSInPGUatRrv"
      }
    },
    {
      "cell_type": "code",
      "execution_count": 1,
      "metadata": {
        "id": "TkwGKEK8nzU9"
      },
      "outputs": [],
      "source": [
        "import numpy as np\n",
        "import pandas as pd\n",
        "import sklearn.neighbors as NearestNeighbors"
      ]
    },
    {
      "cell_type": "code",
      "source": [
        "def myManhattan(v1, v2):\n",
        "  return sum(abs(v1-v2))\n",
        "\n",
        "def myEuclid(v1, v2):\n",
        "  return np.sqrt(sum((v1-v2)**2))\n",
        "\n",
        "def myJaccard(v1, v2):\n",
        "  minimums=[]\n",
        "  maximums=[]\n",
        "\n",
        "  for i in range(0, len(v1)):\n",
        "    minimums.append(min(v1[i], v2[i]))\n",
        "    maximums.append(max(v1[i], v2[i]))\n",
        "\n",
        "  return 1 - sum(minimums)/sum(maximums)\n",
        "\n",
        "\n",
        "def myTanimoto(v1, v2):\n",
        "    numerator = np.dot(v1,v2)\n",
        "    v1norm = sum(v1**2)\n",
        "    v2norm= sum(v2**2)\n",
        "    return numerator / (v1norm + v2norm - numerator)\n",
        "\n",
        "def myCosine(v1, v2):\n",
        "    numerator = np.dot(v1,v2)\n",
        "    denominator = np.sqrt(sum(v1**2)) * np.sqrt(sum(v2**2))\n",
        "    return numerator / denominator\n",
        "\n",
        "rawData = [[10,3,3,5],\n",
        "           [40,8,11,9],\n",
        "           [20,2,1,6],\n",
        "           [12,5,8,15],\n",
        "           [30,6,10,8],\n",
        "]\n",
        "\n",
        "rawData_2 = [\n",
        "    [0,0,0,0],\n",
        "    [1,1,0,0],\n",
        "    [0,2,0,0],\n",
        "    [0,0,5,0],\n",
        "    [0,0,0,7],\n",
        "    [14,30,23,15]\n",
        "]\n",
        "\n",
        "data=np.array(rawData)\n",
        "data2=np.array(rawData_2)\n",
        "refInd1 = 0\n",
        "refInd2 = 2\n",
        "\n",
        "vec1 = data[refInd1]\n",
        "vec2 = data[refInd2]\n",
        "\n",
        "print('Manhattan distance: ', myManhattan(vec1,vec2))\n",
        "print('Euclidean distance: ', myEuclid(vec1,vec2))\n",
        "print('Jaccard distance: ', myJaccard(vec1,vec2))\n",
        "print('Cosine distance: ', myCosine(vec1,vec2))\n",
        "print('Tanimoto distance: ', myTanimoto(vec1,vec2))"
      ],
      "metadata": {
        "colab": {
          "base_uri": "https://localhost:8080/"
        },
        "id": "nTaiQxEun4FS",
        "outputId": "f12f9d54-514e-4b07-ae3b-4578acaf6f29"
      },
      "execution_count": 2,
      "outputs": [
        {
          "output_type": "stream",
          "name": "stdout",
          "text": [
            "Manhattan distance:  14\n",
            "Euclidean distance:  10.295630140987\n",
            "Jaccard distance:  0.4375\n",
            "Cosine distance:  0.9517230494842605\n",
            "Tanimoto distance:  0.6927536231884058\n"
          ]
        }
      ]
    },
    {
      "cell_type": "code",
      "source": [],
      "metadata": {
        "id": "vvxGCfydo3L7"
      },
      "execution_count": null,
      "outputs": []
    }
  ]
}