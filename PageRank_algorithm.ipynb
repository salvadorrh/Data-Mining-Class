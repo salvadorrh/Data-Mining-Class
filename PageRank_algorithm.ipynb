{
  "nbformat": 4,
  "nbformat_minor": 0,
  "metadata": {
    "colab": {
      "provenance": []
    },
    "kernelspec": {
      "name": "python3",
      "display_name": "Python 3"
    },
    "language_info": {
      "name": "python"
    }
  },
  "cells": [
    {
      "cell_type": "markdown",
      "source": [
        "# PageRank algorithm\n",
        "\n",
        "This algorithm ranks order the importance of websites. Given the adjacency matrix of this hyperlinked websites, the output is a vector of probabilities where the largest probability is the most popular website."
      ],
      "metadata": {
        "id": "LUSQoHIQOkGK"
      }
    },
    {
      "cell_type": "code",
      "execution_count": null,
      "metadata": {
        "id": "vW3taAp4OTza"
      },
      "outputs": [],
      "source": [
        "import numpy as np\n",
        "from numpy import array\n",
        "\n",
        "threshold = 0.0000000000001\n",
        "beta = 1.0\n",
        "\n",
        "# Adjacency matrix for website\n",
        "#     A B C D E\n",
        "fig1=[[1,0,1,1,1],\n",
        "     [1,0,0,0,1],\n",
        "     [0,1,1,1,0],\n",
        "     [0,0,1,0,0],\n",
        "     [0,0,1,1,0]]\n",
        "\n",
        "#     A B C D E\n",
        "fig2=[[0,0,1,1,0],\n",
        "     [1,0,0,0,1],\n",
        "     [0,1,1,1,0],\n",
        "     [0,0,1,0,0],\n",
        "     [0,0,1,1,1]]\n",
        "\n",
        "#     A B C D E\n",
        "fig3=[[1,0,0,0,1],\n",
        "     [0,0,1,1,1],\n",
        "     [0,1,1,1,0],\n",
        "     [0,0,1,0,0],\n",
        "     [0,0,1,0,1]]\n",
        "\n",
        "#     A B C D E\n",
        "fig4=[[0,0,1,0,1],\n",
        "     [1,0,1,1,0],\n",
        "     [0,1,1,1,0],\n",
        "     [0,0,1,0,0],\n",
        "     [0,1,0,0,0]]\n",
        "\n",
        "#     A B C D E\n",
        "fig5=[[0,0,0,0,1],\n",
        "     [0,1,1,1,1],\n",
        "     [0,1,0,1,0],\n",
        "     [0,0,1,0,0],\n",
        "     [0,0,1,0,1]]\n",
        "\n",
        "A = fig5\n",
        "\n",
        "arr = array(A,dtype=float)\n",
        "s = []\n",
        "\n",
        "for i in range(0, len(A)): # Num of rows\n",
        "  s.append(np.sum(arr[:, i]))\n",
        "\n",
        "print('Summation of columns: ', s)\n",
        "\n",
        "M = arr\n",
        "\n",
        "for j in range(0, len(A)):\n",
        "  M[:, j] = M[:, j] / s[j]\n",
        "\n",
        "print('Column stochastic probability matrix, M:')\n",
        "print(M)\n",
        "\n",
        "r = (1.0 + np.zeros([len(M),1])) / len(M)\n",
        "print(r)\n",
        "\n",
        "uniformR = (1.0-beta)*r\n",
        "\n",
        "r_prev = r"
      ]
    },
    {
      "cell_type": "code",
      "source": [
        "#while (True):\n",
        "for i in range(1,1001):\n",
        "  print('Iteration: ', i)\n",
        "  m_r_prev = np.matmul(M,r_prev)\n",
        "  x = beta * m_r_prev\n",
        "  r = x + uniformR\n",
        "  print('The rank vector: ', r)\n",
        "\n",
        "  # If r almost the same at r_prve break\n",
        "  diff = np.sum(abs(r-r_prev))\n",
        "  if (diff <= threshold):\n",
        "    break\n",
        "\n",
        "  r_prev = r\n",
        "\n",
        "print('The final rank vector: ')\n",
        "print(r[:,0])"
      ],
      "metadata": {
        "id": "Y1GB4FR9Ogvp"
      },
      "execution_count": null,
      "outputs": []
    }
  ]
}