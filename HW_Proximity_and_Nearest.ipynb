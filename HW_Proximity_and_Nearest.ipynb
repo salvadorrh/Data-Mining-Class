{
  "nbformat": 4,
  "nbformat_minor": 0,
  "metadata": {
    "colab": {
      "provenance": []
    },
    "kernelspec": {
      "name": "python3",
      "display_name": "Python 3"
    },
    "language_info": {
      "name": "python"
    }
  },
  "cells": [
    {
      "cell_type": "markdown",
      "source": [
        "Class: Data mining\n",
        "\n",
        "Student: Salvador Robles Herrera\n",
        "\n",
        "Professor: Dr. Shahriar Hossain"
      ],
      "metadata": {
        "id": "kwfM8dL1xdZq"
      }
    },
    {
      "cell_type": "markdown",
      "source": [
        "# HW 1 Proximity and Nearest Neighbors\n",
        "\n",
        "In Data Science, is not only important to know the proximity between two data points but to also know which data points are very close to a specific data point. We can call this Nearest Neighbors, if we want to find the 5 data points that are closest to one data point, in other words, 5 nearest neighbors.\n",
        "\n",
        "Note that is an introduction to clustering, which the most important thing is to find points that are very close to each other in respect to the other data points in our dataset."
      ],
      "metadata": {
        "id": "v8mELpoJ0SfB"
      }
    },
    {
      "cell_type": "code",
      "source": [
        "import numpy as np\n",
        "import pandas as pd"
      ],
      "metadata": {
        "id": "sfJQKKjp1m7J"
      },
      "execution_count": null,
      "outputs": []
    },
    {
      "cell_type": "code",
      "source": [
        "df_hw1 = pd.read_csv(\"/content/data-HW1.csv\")\n",
        "arr_hw1 = df_hw1.to_numpy()\n",
        "\n",
        "# Question 0\n",
        "vec1 = arr_hw1[0]\n",
        "vec2 = arr_hw1[1]\n",
        "print('Cosine distance: ', myCosine(vec1,vec2))\n",
        "print('Jaccard distance: ', myJaccard(vec1,vec2))\n",
        "print('Tanimoto distance: ', myTanimoto(vec1,vec2))\n",
        "print('Euclidean distance: ', myEuclid(vec1,vec2))\n",
        "print('Manhattan distance: ', myManhattan(vec1,vec2))\n",
        "\n",
        "# Question 2\n",
        "def nearest(arr, vec_idx, dist, num_neigh):\n",
        "  neighbors = np.zeros(shape=(arr.shape[0],2))\n",
        "  vec = arr[vec_idx]\n",
        "  for i in range(arr.shape[0]):\n",
        "    d = dist(vec,arr[i])\n",
        "    neighbors[i] = [i,d]\n",
        "  sorted_indices = np.argsort(neighbors[:,1])\n",
        "  sorted_neighs = neighbors[sorted_indices]\n",
        "  print(sorted_neighs[:5])\n",
        "\n",
        "\n",
        "nearest(arr_hw1, 10, myEuclid, 5)\n",
        "nearest(arr_hw1, 10, myManhattan, 5)\n",
        "nearest(arr_hw1, 10, myJaccard, 5)"
      ],
      "metadata": {
        "id": "7iV_IpcUwUd9",
        "colab": {
          "base_uri": "https://localhost:8080/"
        },
        "outputId": "8232f9f4-6fe1-4a82-80c0-805a46560c4e"
      },
      "execution_count": null,
      "outputs": [
        {
          "output_type": "stream",
          "name": "stdout",
          "text": [
            "Cosine distance:  0.9796454701665941\n",
            "Jaccard distance:  0.35040625974675377\n",
            "Tanimoto distance:  0.8883294479993544\n",
            "Euclidean distance:  2.71990142706248\n",
            "Manhattan distance:  8.552651256999999\n",
            "[[10.          0.        ]\n",
            " [ 9.          1.36099141]\n",
            " [ 7.          1.54569261]\n",
            " [17.          1.54949591]\n",
            " [12.          1.54992765]]\n",
            "[[10.          0.        ]\n",
            " [ 9.          5.01643507]\n",
            " [17.          5.05932368]\n",
            " [15.          5.40795824]\n",
            " [12.          5.44569167]]\n",
            "[[ 10.           0.        ]\n",
            " [ 17.           0.21081411]\n",
            " [ 15.           0.22612156]\n",
            " [  9.           0.22615242]\n",
            " [147.           0.23078577]]\n"
          ]
        }
      ]
    },
    {
      "cell_type": "code",
      "source": [
        "nearest(arr_hw1, 101, myEuclid,5)"
      ],
      "metadata": {
        "id": "w4NlTdvvTxnQ",
        "colab": {
          "base_uri": "https://localhost:8080/"
        },
        "outputId": "ffc883e9-1512-4a57-8324-704e98e2c022"
      },
      "execution_count": null,
      "outputs": [
        {
          "output_type": "stream",
          "name": "stdout",
          "text": [
            "[[101.           0.        ]\n",
            " [122.           1.21469392]\n",
            " [132.           1.2157888 ]\n",
            " [129.           1.22386318]\n",
            " [127.           1.32038255]]\n"
          ]
        }
      ]
    },
    {
      "cell_type": "code",
      "source": [
        "print('Euclidean distance: ', myEuclid(arr_hw1[50],arr_hw1[55]))"
      ],
      "metadata": {
        "colab": {
          "base_uri": "https://localhost:8080/"
        },
        "id": "RWunvmm0c-yv",
        "outputId": "234c2dc0-1938-4471-9974-a42238d87eab"
      },
      "execution_count": null,
      "outputs": [
        {
          "output_type": "stream",
          "name": "stdout",
          "text": [
            "Euclidean distance:  1.9729823248531622\n"
          ]
        }
      ]
    },
    {
      "cell_type": "code",
      "source": [
        "# Question 4\n",
        "# Statement 1\n",
        "print(\"STATEMENT 1\")\n",
        "nearest(arr_hw1, 21, myEuclid, 5)\n",
        "nearest(arr_hw1, 21, myManhattan, 5)\n",
        "# Statement 2\n",
        "print(\"STATEMENT 2\")\n",
        "nearest(arr_hw1, 63, myEuclid, 5)\n",
        "nearest(arr_hw1, 63, myManhattan, 5)"
      ],
      "metadata": {
        "colab": {
          "base_uri": "https://localhost:8080/"
        },
        "id": "17Ks80cBdStv",
        "outputId": "15cfbe20-1e86-4d25-b5fc-16b490d8f64e"
      },
      "execution_count": null,
      "outputs": [
        {
          "output_type": "stream",
          "name": "stdout",
          "text": [
            "STATEMENT 1\n",
            "[[21.          0.        ]\n",
            " [28.          1.14860116]\n",
            " [39.          1.1864751 ]\n",
            " [ 1.          1.23710635]\n",
            " [40.          1.26397079]]\n",
            "[[21.          0.        ]\n",
            " [28.          3.72412972]\n",
            " [39.          4.18166674]\n",
            " [27.          4.18812899]\n",
            " [40.          4.43135326]]\n",
            "STATEMENT 2\n",
            "[[63.          0.        ]\n",
            " [83.          1.19949819]\n",
            " [79.          1.22548933]\n",
            " [45.          1.32094813]\n",
            " [86.          1.32325672]]\n",
            "[[63.          0.        ]\n",
            " [83.          4.06445342]\n",
            " [52.          4.34817859]\n",
            " [86.          4.37387373]\n",
            " [79.          4.46802224]]\n"
          ]
        }
      ]
    },
    {
      "cell_type": "code",
      "source": [
        "print(arr_hw1.shape)"
      ],
      "metadata": {
        "colab": {
          "base_uri": "https://localhost:8080/"
        },
        "id": "AoR-AQ6Og8pL",
        "outputId": "dbe4a033-cf40-4017-f955-46b5a2638180"
      },
      "execution_count": null,
      "outputs": [
        {
          "output_type": "stream",
          "name": "stdout",
          "text": [
            "(149, 18)\n"
          ]
        }
      ]
    },
    {
      "cell_type": "code",
      "source": [
        "print('Tanimoto distance: ', myTanimoto(arr_hw1[3],arr_hw1[102]))"
      ],
      "metadata": {
        "colab": {
          "base_uri": "https://localhost:8080/"
        },
        "id": "2sINoBpvhApP",
        "outputId": "d5711ea7-379a-4cd7-db74-b5ac5c314417"
      },
      "execution_count": null,
      "outputs": [
        {
          "output_type": "stream",
          "name": "stdout",
          "text": [
            "Tanimoto distance:  0.7974743328062393\n"
          ]
        }
      ]
    },
    {
      "cell_type": "code",
      "source": [
        "# Question 8\n",
        "print('Cosine distance: ', myCosine(arr_hw1[35],arr_hw1[99]))"
      ],
      "metadata": {
        "colab": {
          "base_uri": "https://localhost:8080/"
        },
        "id": "FGnyLrb7hZk2",
        "outputId": "6457fd95-94fd-4166-91d4-fa009bc5447d"
      },
      "execution_count": null,
      "outputs": [
        {
          "output_type": "stream",
          "name": "stdout",
          "text": [
            "Cosine distance:  0.9100554389849032\n"
          ]
        }
      ]
    },
    {
      "cell_type": "code",
      "source": [
        "# Question 9\n",
        "print('Jaccard similarity:  ', myCosine(arr_hw1[111],arr_hw1[101]))"
      ],
      "metadata": {
        "colab": {
          "base_uri": "https://localhost:8080/"
        },
        "id": "2inVanWqiO3F",
        "outputId": "4cc52b14-89d0-422c-8c27-7f6fd0e95cac"
      },
      "execution_count": null,
      "outputs": [
        {
          "output_type": "stream",
          "name": "stdout",
          "text": [
            "Jaccard similarity:   0.9749338164150657\n"
          ]
        }
      ]
    },
    {
      "cell_type": "code",
      "source": [
        "# Question 10\n",
        "nearest(arr_hw1, 110, myEuclid, 5)"
      ],
      "metadata": {
        "colab": {
          "base_uri": "https://localhost:8080/"
        },
        "id": "8g3Lm6TRipSv",
        "outputId": "77aa16f9-6906-41df-d76e-b348083c2511"
      },
      "execution_count": null,
      "outputs": [
        {
          "output_type": "stream",
          "name": "stdout",
          "text": [
            "[[110.           0.        ]\n",
            " [128.           1.30683037]\n",
            " [124.           1.39276148]\n",
            " [135.           1.41654167]\n",
            " [109.           1.45651242]]\n"
          ]
        }
      ]
    }
  ]
}