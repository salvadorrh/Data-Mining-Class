{
  "nbformat": 4,
  "nbformat_minor": 0,
  "metadata": {
    "colab": {
      "provenance": []
    },
    "kernelspec": {
      "name": "python3",
      "display_name": "Python 3"
    },
    "language_info": {
      "name": "python"
    }
  },
  "cells": [
    {
      "cell_type": "markdown",
      "source": [
        "# Clustering Evaluation Metrics\n",
        "\n",
        "Having our clustering results and assigning a cluster ID to every data point, the next step would be to have some type of metrics to evaluate this clustering result.\n",
        "\n",
        "Rand Index: It considers both correct assignments (data points grouped together that belong in the same class) and incorrect assignments (data points placed together that shouldn't be, or points separated that should be together) between the clustering results and the ground truth. A higher Rand index indicates better agreement.\n",
        "\n",
        "Purity: It focuses on how well each cluster represents a single class. A high purity for a cluster means most data points in that cluster belong to the same class according to the ground truth."
      ],
      "metadata": {
        "id": "Jwop_oIQMWOb"
      }
    },
    {
      "cell_type": "code",
      "execution_count": 2,
      "metadata": {
        "id": "43ZeJ6n5C_Ox"
      },
      "outputs": [],
      "source": [
        "def RandIndex(result, gs):\n",
        "  TP = 0\n",
        "  TN = 0\n",
        "  FP = 0\n",
        "  FN = 0\n",
        "\n",
        "  for i in range(0,len(result)-1):\n",
        "    for j in range(i+1, len(result)):\n",
        "      # TP\n",
        "      if (result[i] == result[j]): # Positive\n",
        "        if(gs[i]==gs[j]): # Truth\n",
        "          TP += 1\n",
        "        else:\n",
        "          FP += 1\n",
        "      else: # Negative\n",
        "        if (gs[i]==gs[j]):\n",
        "          FN += 1\n",
        "        else:\n",
        "          TN += 1\n",
        "\n",
        "  RI = (TP+TN)/(TP+FP+TN+FN)\n",
        "\n",
        "  return RI"
      ]
    },
    {
      "cell_type": "code",
      "source": [
        "def Purity(assignment, known):\n",
        "    aLabels = set(assignment)\n",
        "    aLabels = list(aLabels)\n",
        "    kLabels = set(known)\n",
        "    kLabels=list(kLabels)\n",
        "\n",
        "    maxOverlaps = []\n",
        "\n",
        "    for cID in aLabels:\n",
        "        indicesOfCID = [ii for ii in \\\n",
        "            range(0, len(assignment)) if \\\n",
        "             assignment[ii]==cID]\n",
        "        overlap=[]\n",
        "\n",
        "        for ckID in kLabels:\n",
        "            indicesOfCkID = [ii for ii in \\\n",
        "            range(0, len(known)) if \\\n",
        "             known[ii]==ckID]\n",
        "            overlap.append(\\\n",
        "            len(set(indicesOfCID).intersection(indicesOfCkID))\\\n",
        "            )\n",
        "        maxOverlaps.append(max(overlap))\n",
        "\n",
        "    purity = sum(maxOverlaps)/len(assignment)\n",
        "    return purity"
      ],
      "metadata": {
        "id": "5aTi87OhDQDK"
      },
      "execution_count": 3,
      "outputs": []
    },
    {
      "cell_type": "code",
      "source": [
        "# Simple dataset of clustering\n",
        "assign = [1,1,2,1,2]\n",
        "known = [0,0,0,1,1]"
      ],
      "metadata": {
        "id": "918KNHqXDSRr"
      },
      "execution_count": 4,
      "outputs": []
    },
    {
      "cell_type": "code",
      "source": [
        "# Trying Rand Index evaluation\n",
        "print(RandIndex(assign, known))"
      ],
      "metadata": {
        "colab": {
          "base_uri": "https://localhost:8080/"
        },
        "id": "Zzw6j4o9DhF4",
        "outputId": "165574b3-213d-4885-e2d4-786f36394725"
      },
      "execution_count": 5,
      "outputs": [
        {
          "output_type": "stream",
          "name": "stdout",
          "text": [
            "0.4\n"
          ]
        }
      ]
    },
    {
      "cell_type": "code",
      "source": [
        "# Trying Purity evaluation\n",
        "print(Purity(assign, known))"
      ],
      "metadata": {
        "colab": {
          "base_uri": "https://localhost:8080/"
        },
        "id": "Vl1D8ieIDlsA",
        "outputId": "65d2c144-7fa0-4325-8b78-60ba79b2945c"
      },
      "execution_count": 6,
      "outputs": [
        {
          "output_type": "stream",
          "name": "stdout",
          "text": [
            "0.6\n"
          ]
        }
      ]
    }
  ]
}